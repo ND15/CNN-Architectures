{
 "cells": [
  {
   "cell_type": "code",
   "execution_count": 1,
   "id": "ff001f45",
   "metadata": {},
   "outputs": [],
   "source": [
    "import numpy as np\n",
    "import os\n",
    "import matplotlib as mpl\n",
    "import matplotlib.pyplot as plt"
   ]
  },
  {
   "cell_type": "code",
   "execution_count": 2,
   "id": "975925b7",
   "metadata": {},
   "outputs": [],
   "source": [
    "import tensorflow as tf\n",
    "from tensorflow import keras\n",
    "import keras.backend as K"
   ]
  },
  {
   "cell_type": "code",
   "execution_count": 3,
   "id": "32b28345",
   "metadata": {},
   "outputs": [],
   "source": [
    "from keras.models import Sequential"
   ]
  },
  {
   "cell_type": "code",
   "execution_count": 4,
   "id": "2ccbbd9b",
   "metadata": {},
   "outputs": [],
   "source": [
    "# laoding the data\n",
    "(X_train_full, y_train_full), (X_test, y_test) = keras.datasets.mnist.load_data()"
   ]
  },
  {
   "cell_type": "code",
   "execution_count": 5,
   "id": "0a7a5a1d",
   "metadata": {},
   "outputs": [],
   "source": [
    "# normalization\n",
    "\n",
    "X_train_full = X_train_full / 255.0\n",
    "X_test = X_test / 255.0"
   ]
  },
  {
   "cell_type": "code",
   "execution_count": 6,
   "id": "dc4c1b83",
   "metadata": {},
   "outputs": [],
   "source": [
    "X_train_new = np.expand_dims(X_train_full, axis=3)\n",
    "X_test_new = np.expand_dims(X_test, axis=3)"
   ]
  },
  {
   "cell_type": "code",
   "execution_count": 7,
   "id": "7a68cc03",
   "metadata": {},
   "outputs": [
    {
     "name": "stdout",
     "output_type": "stream",
     "text": [
      "(60000, 28, 28, 1) (10000, 28, 28, 1)\n"
     ]
    }
   ],
   "source": [
    "print(X_train_new.shape, X_test_new.shape)"
   ]
  },
  {
   "cell_type": "code",
   "execution_count": 8,
   "id": "9f119172",
   "metadata": {},
   "outputs": [],
   "source": [
    "# padding the images into size of  32 * 32\n",
    "\n",
    "X_train_resized = keras.layers.ZeroPadding2D(padding=2)(X_train_new)\n",
    "X_test_resized = keras.layers.ZeroPadding2D(padding=2)(X_test_new)"
   ]
  },
  {
   "cell_type": "code",
   "execution_count": 9,
   "id": "4f120f63",
   "metadata": {},
   "outputs": [
    {
     "data": {
      "text/plain": [
       "(TensorShape([60000, 32, 32, 1]), TensorShape([10000, 32, 32, 1]))"
      ]
     },
     "execution_count": 9,
     "metadata": {},
     "output_type": "execute_result"
    }
   ],
   "source": [
    "X_train_resized.shape, X_test_resized.shape"
   ]
  },
  {
   "cell_type": "code",
   "execution_count": 10,
   "id": "edb7f161",
   "metadata": {},
   "outputs": [
    {
     "data": {
      "text/plain": [
       "Text(0.5, 1.0, 'Padded')"
      ]
     },
     "execution_count": 10,
     "metadata": {},
     "output_type": "execute_result"
    },
    {
     "data": {
      "image/png": "[encoded data removed]",
      "text/plain": [
       "<Figure size 720x576 with 2 Axes>"
      ]
     },
     "metadata": {
      "needs_background": "light"
     },
     "output_type": "display_data"
    }
   ],
   "source": [
    "figure, axs = plt.subplots(1, 2, figsize=(10,8))\n",
    "axs[0].imshow(X_train_new[0], cmap=\"gray\")\n",
    "axs[0].set_title(\"Original\")\n",
    "\n",
    "axs[1].imshow(X_train_resized[0], cmap=\"gray\")\n",
    "axs[1].set_title(\"Padded\")"
   ]
  },
  {
   "cell_type": "code",
   "execution_count": 11,
   "id": "82bd0a96",
   "metadata": {},
   "outputs": [],
   "source": [
    "class RBFLayer(keras.layers.Layer):\n",
    "    def __init__(self, units, gamma, **kwargs):\n",
    "        super().__init__(**kwargs)\n",
    "        self.units = units\n",
    "        self.gamma = K.cast_to_floatx(gamma)\n",
    "    \n",
    "    def build(self, input_shape):\n",
    "        self.kernel = self.add_weight(\n",
    "            name=\"kernel\", shape=[input_shape[-1], self.units],\n",
    "            initializer=\"uniform\", trainable=True\n",
    "        )\n",
    "        \n",
    "        super().build(input_shape)\n",
    "    \n",
    "    def call(self, inputs):\n",
    "        diff = K.expand_dims(inputs) - self.kernel\n",
    "        l2 = K.sum(K.pow(diff,2), axis=1)\n",
    "        res = K.exp(-1 * self.gamma * l2)\n",
    "        return res\n",
    "    \n",
    "    def compute_output_shape(self, input_shape):\n",
    "        return (input_shape[0], self.units)\n",
    "    \n",
    "    def get_config(self):\n",
    "        base_config = super().get_config()\n",
    "        return {**base_config, \"units\":self.units, \n",
    "                \"gamma\":self.gamma}"
   ]
  },
  {
   "cell_type": "code",
   "execution_count": 12,
   "id": "00a2b785",
   "metadata": {},
   "outputs": [],
   "source": [
    "class LeNet5:\n",
    "    \"\"\"\n",
    "    Hard coded implementation of the LeNet-5 architecture.\n",
    "    The LeNet architecture contains 3 Convolutional Layers,\n",
    "    2 Average Pooling Layers, 2 Fully Connected Dense Layers.\n",
    "    \"\"\"\n",
    "    def build():\n",
    "        model = keras.models.Sequential([\n",
    "            keras.layers.Conv2D(filters=6, \n",
    "                            kernel_size=5, \n",
    "                            strides=(1, 1), \n",
    "                            activation=\"tanh\",\n",
    "                            input_shape=[32, 32, 1]),\n",
    "            keras.layers.AveragePooling2D(strides=2),\n",
    "        \n",
    "            keras.layers.Conv2D(filters=16, \n",
    "                                kernel_size=5, \n",
    "                                strides=(1, 1), \n",
    "                                activation=\"tanh\"),\n",
    "\n",
    "            keras.layers.AveragePooling2D(strides=2),\n",
    "\n",
    "            keras.layers.Conv2D(filters=120, \n",
    "                                kernel_size=5, \n",
    "                                strides=(1, 1), \n",
    "                                activation=\"tanh\"),\n",
    "\n",
    "            keras.layers.Flatten(),\n",
    "\n",
    "            keras.layers.Dense(84, activation=\"tanh\"),\n",
    "\n",
    "            RBFLayer(10, 0.5)\n",
    "        ])\n",
    "        \n",
    "#         conv1 = keras.layers.Conv2D(filters=6, \n",
    "#                                     kernel_size=5, \n",
    "#                                     strides=(1, 1), \n",
    "#                                     activation=\"tanh\",\n",
    "#                                     input_shape=[32, 32, 1])\n",
    "        \n",
    "#         avg_pool1 = keras.layers.AveragePooling2D(strides=2)(conv1)\n",
    "        \n",
    "#         conv2 = keras.layers.Conv2D(filters=16, \n",
    "#                                     kernel_size=5, \n",
    "#                                     strides=(1, 1), \n",
    "#                                     activation=\"tanh\")(avg_pool1)\n",
    "        \n",
    "#         avg_pool2 = keras.layers.AveragePooling2D(strides=2)(conv2)\n",
    "        \n",
    "#         conv3 = keras.layers.Conv2D(filters=120, \n",
    "#                                     kernel_size=5, \n",
    "#                                     strides=(1, 1), \n",
    "#                                     activation=\"tanh\")(avg_pool2)\n",
    "        \n",
    "#         flat_layer = keras.layers.Flatten()(conv3)\n",
    "        \n",
    "#         full_con1 = keras.layers.Dense(84, activation=\"tanh\")(flat_layer)\n",
    "        \n",
    "#         output = RBFLayer(10, 0.5)(full_con1)\n",
    "        \n",
    "#         model = keras.Model(inputs=[conv1], outputs=[output])\n",
    "        return model"
   ]
  },
  {
   "cell_type": "code",
   "execution_count": 13,
   "id": "6337efde",
   "metadata": {},
   "outputs": [],
   "source": [
    "K.clear_session()"
   ]
  },
  {
   "cell_type": "code",
   "execution_count": 14,
   "id": "0aa16408",
   "metadata": {},
   "outputs": [],
   "source": [
    "model = LeNet5.build()"
   ]
  },
  {
   "cell_type": "code",
   "execution_count": 15,
   "id": "aed253fd",
   "metadata": {},
   "outputs": [],
   "source": [
    "model.compile(optimizer=\"rmsprop\", loss=\"sparse_categorical_crossentropy\",\n",
    "              metrics=[\"accuracy\"])"
   ]
  },
  {
   "cell_type": "code",
   "execution_count": 16,
   "id": "f5a246fa",
   "metadata": {},
   "outputs": [],
   "source": [
    "X_train, X_valid = X_train_resized[:50000], X_train_resized[50000:]\n",
    "y_train, y_valid = y_train_full[:50000], y_train_full[50000:]"
   ]
  },
  {
   "cell_type": "code",
   "execution_count": 17,
   "id": "f48937b8",
   "metadata": {},
   "outputs": [
    {
     "name": "stdout",
     "output_type": "stream",
     "text": [
      "Epoch 1/10\n",
      "1563/1563 [==============================] - 14s 8ms/step - loss: 0.2820 - accuracy: 0.9237 - val_loss: 0.1055 - val_accuracy: 0.9696\n",
      "Epoch 2/10\n",
      "1563/1563 [==============================] - 13s 8ms/step - loss: 0.0908 - accuracy: 0.9724 - val_loss: 0.1051 - val_accuracy: 0.9708\n",
      "Epoch 3/10\n",
      "1563/1563 [==============================] - 13s 8ms/step - loss: 0.0652 - accuracy: 0.9805 - val_loss: 0.0714 - val_accuracy: 0.9791\n",
      "Epoch 4/10\n",
      "1563/1563 [==============================] - 14s 9ms/step - loss: 0.0533 - accuracy: 0.9842 - val_loss: 0.0678 - val_accuracy: 0.9800\n",
      "Epoch 5/10\n",
      "1563/1563 [==============================] - 14s 9ms/step - loss: 0.0452 - accuracy: 0.9867 - val_loss: 0.0630 - val_accuracy: 0.9818\n",
      "Epoch 6/10\n",
      "1563/1563 [==============================] - 14s 9ms/step - loss: 0.0377 - accuracy: 0.9894 - val_loss: 0.0620 - val_accuracy: 0.9849\n",
      "Epoch 7/10\n",
      "1563/1563 [==============================] - 14s 9ms/step - loss: 0.0337 - accuracy: 0.9904 - val_loss: 0.0594 - val_accuracy: 0.9839\n",
      "Epoch 8/10\n",
      "1563/1563 [==============================] - 14s 9ms/step - loss: 0.0294 - accuracy: 0.9913 - val_loss: 0.0584 - val_accuracy: 0.9860\n",
      "Epoch 9/10\n",
      "1563/1563 [==============================] - 14s 9ms/step - loss: 0.0261 - accuracy: 0.9926 - val_loss: 0.0576 - val_accuracy: 0.9868\n",
      "Epoch 10/10\n",
      "1563/1563 [==============================] - 14s 9ms/step - loss: 0.0224 - accuracy: 0.9935 - val_loss: 0.0653 - val_accuracy: 0.9858\n"
     ]
    }
   ],
   "source": [
    "history = model.fit(X_train, y_train, epochs=10, \n",
    "         validation_data=(X_valid, y_valid))"
   ]
  },
  {
   "cell_type": "code",
   "execution_count": 19,
   "id": "1abf7560",
   "metadata": {},
   "outputs": [
    {
     "data": {
      "image/png": "[encoded data removed]",
      "text/plain": [
       "<Figure size 720x576 with 1 Axes>"
      ]
     },
     "metadata": {},
     "output_type": "display_data"
    }
   ],
   "source": [
    "plt.style.use(\"ggplot\")\n",
    "plt.figure(figsize=(10, 8))\n",
    "\n",
    "plt.plot(np.arange(0, 10), history.history[\"loss\"], label=\"train_loss\")\n",
    "plt.plot(np.arange(0, 10), history.history[\"val_loss\"], label=\"val_loss\")\n",
    "plt.plot(np.arange(0, 10), history.history[\"accuracy\"], label=\"train_accuracy\")\n",
    "plt.plot(np.arange(0, 10), history.history[\"val_accuracy\"], label=\"val_accuracy\")\n",
    "\n",
    "plt.title(\"LeNet5 Training Loss and Accuracy\")\n",
    "plt.xlabel(\"Epochs\")\n",
    "plt.ylabel(\"Loss/Accuracy\")\n",
    "plt.legend()\n",
    "plt.show()"
   ]
  },
  {
   "cell_type": "code",
   "execution_count": 20,
   "id": "00fb4e2b",
   "metadata": {},
   "outputs": [
    {
     "name": "stdout",
     "output_type": "stream",
     "text": [
      "313/313 [==============================] - 1s 3ms/step - loss: 0.0647 - accuracy: 0.9849\n"
     ]
    },
    {
     "data": {
      "text/plain": [
       "[0.06465494632720947, 0.9848999977111816]"
      ]
     },
     "execution_count": 20,
     "metadata": {},
     "output_type": "execute_result"
    }
   ],
   "source": [
    "model.evaluate(X_test_resized, y_test)"
   ]
  }
 ],
 "metadata": {
  "kernelspec": {
   "display_name": "Python 3 (ipykernel)",
   "language": "python",
   "name": "python3"
  },
  "language_info": {
   "codemirror_mode": {
    "name": "ipython",
    "version": 3
   },
   "file_extension": ".py",
   "mimetype": "text/x-python",
   "name": "python",
   "nbconvert_exporter": "python",
   "pygments_lexer": "ipython3",
   "version": "3.9.4"
  }
 },
 "nbformat": 4,
 "nbformat_minor": 5
}
